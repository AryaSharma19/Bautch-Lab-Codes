{
 "cells": [
  {
   "cell_type": "code",
   "execution_count": 31,
   "metadata": {},
   "outputs": [],
   "source": [
    "import os\n",
    "from tkinter.filedialog import askdirectory\n",
    "from tkinter import *\n",
    "import csv"
   ]
  },
  {
   "cell_type": "code",
   "execution_count": 24,
   "metadata": {},
   "outputs": [],
   "source": [
    "def get_io():\n",
    "    root = Tk()\n",
    "    root.lift()\n",
    "    root.update()\n",
    "    input = askdirectory(title='Select Input Folder') # shows dialog box and return the path\n",
    "    output = askdirectory(title='Select Output Folder') # shows dialog box and return the path\n",
    "    root.destroy()\n",
    "    return input, output"
   ]
  },
  {
   "cell_type": "code",
   "execution_count": 71,
   "metadata": {},
   "outputs": [],
   "source": [
    "def csv_reader(file):\n",
    "    nuclear_intensity = []\n",
    "    name = \"\"\n",
    "    with open(file) as csvfile:\n",
    "        reader = csv.DictReader(csvfile)\n",
    "        background = 0.0\n",
    "        for row in reader:\n",
    "            if \"Result\" in row[\"Label\"]:\n",
    "                background = float(row[\"Mean\"])\n",
    "                name = row[\"Label\"]\n",
    "                continue\n",
    "            nuclear_intensity.append(float(row[\"Mean\"]) - background)\n",
    "    name = name[13:]\n",
    "    name = name[:-4]\n",
    "    ave_intensity = sum(nuclear_intensity) / float(len(nuclear_intensity))\n",
    "    return name, ave_intensity"
   ]
  },
  {
   "cell_type": "code",
   "execution_count": 72,
   "metadata": {},
   "outputs": [],
   "source": [
    "def process_CSVs(folder):\n",
    "    samples = {}\n",
    "    os.chdir(folder)\n",
    "    for files in os.listdir(folder):\n",
    "        if files.endswith('.csv'):\n",
    "            name, intensity = csv_reader(files)\n",
    "            samples[name] = intensity\n",
    "    return samples"
   ]
  },
  {
   "cell_type": "code",
   "execution_count": 77,
   "metadata": {},
   "outputs": [
    {
     "ename": "ZeroDivisionError",
     "evalue": "float division by zero",
     "output_type": "error",
     "traceback": [
      "\u001b[1;31m---------------------------------------------------------------------------\u001b[0m",
      "\u001b[1;31mZeroDivisionError\u001b[0m                         Traceback (most recent call last)",
      "Cell \u001b[1;32mIn[77], line 2\u001b[0m\n\u001b[0;32m      1\u001b[0m \u001b[39minput\u001b[39m, output \u001b[39m=\u001b[39m get_io()\n\u001b[1;32m----> 2\u001b[0m samples \u001b[39m=\u001b[39m process_CSVs(\u001b[39minput\u001b[39;49m)\n\u001b[0;32m      3\u001b[0m \u001b[39mprint\u001b[39m(samples)\n\u001b[0;32m      4\u001b[0m \u001b[39mwith\u001b[39;00m \u001b[39mopen\u001b[39m(\u001b[39m'\u001b[39m\u001b[39mAverage_Nuclear_Intensities.csv\u001b[39m\u001b[39m'\u001b[39m, \u001b[39m'\u001b[39m\u001b[39mw\u001b[39m\u001b[39m'\u001b[39m) \u001b[39mas\u001b[39;00m f:\n",
      "Cell \u001b[1;32mIn[72], line 6\u001b[0m, in \u001b[0;36mprocess_CSVs\u001b[1;34m(folder)\u001b[0m\n\u001b[0;32m      4\u001b[0m \u001b[39mfor\u001b[39;00m files \u001b[39min\u001b[39;00m os\u001b[39m.\u001b[39mlistdir(folder):\n\u001b[0;32m      5\u001b[0m     \u001b[39mif\u001b[39;00m files\u001b[39m.\u001b[39mendswith(\u001b[39m'\u001b[39m\u001b[39m.csv\u001b[39m\u001b[39m'\u001b[39m):\n\u001b[1;32m----> 6\u001b[0m         name, intensity \u001b[39m=\u001b[39m csv_reader(files)\n\u001b[0;32m      7\u001b[0m         samples[name] \u001b[39m=\u001b[39m intensity\n\u001b[0;32m      8\u001b[0m \u001b[39mprint\u001b[39m(samples)\n",
      "Cell \u001b[1;32mIn[71], line 15\u001b[0m, in \u001b[0;36mcsv_reader\u001b[1;34m(file)\u001b[0m\n\u001b[0;32m     13\u001b[0m name \u001b[39m=\u001b[39m name[\u001b[39m13\u001b[39m:]\n\u001b[0;32m     14\u001b[0m name \u001b[39m=\u001b[39m name[:\u001b[39m-\u001b[39m\u001b[39m4\u001b[39m]\n\u001b[1;32m---> 15\u001b[0m ave_intensity \u001b[39m=\u001b[39m \u001b[39msum\u001b[39;49m(nuclear_intensity) \u001b[39m/\u001b[39;49m \u001b[39mfloat\u001b[39;49m(\u001b[39mlen\u001b[39;49m(nuclear_intensity))\n\u001b[0;32m     16\u001b[0m \u001b[39mreturn\u001b[39;00m name, ave_intensity\n",
      "\u001b[1;31mZeroDivisionError\u001b[0m: float division by zero"
     ]
    }
   ],
   "source": [
    "input, output = get_io()\n",
    "samples = process_CSVs(input)\n",
    "print(samples)\n",
    "with open('Average_Nuclear_Intensities.csv', 'w') as f:\n",
    "    for key in samples.keys():\n",
    "        f.write(\"%s,%s\\n\"%(key,samples[key]))\n",
    "\n"
   ]
  }
 ],
 "metadata": {
  "kernelspec": {
   "display_name": "Python 3",
   "language": "python",
   "name": "python3"
  },
  "language_info": {
   "codemirror_mode": {
    "name": "ipython",
    "version": 3
   },
   "file_extension": ".py",
   "mimetype": "text/x-python",
   "name": "python",
   "nbconvert_exporter": "python",
   "pygments_lexer": "ipython3",
   "version": "3.11.1"
  },
  "orig_nbformat": 4
 },
 "nbformat": 4,
 "nbformat_minor": 2
}
