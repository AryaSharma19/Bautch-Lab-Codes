{
 "cells": [
  {
   "cell_type": "code",
   "execution_count": 1,
   "metadata": {},
   "outputs": [],
   "source": [
    "import os\n",
    "from pathlib import Path\n",
    "from tkinter.filedialog import askdirectory\n",
    "from tkinter import *\n",
    "import shutil"
   ]
  },
  {
   "cell_type": "code",
   "execution_count": 11,
   "metadata": {},
   "outputs": [
    {
     "name": "stdout",
     "output_type": "stream",
     "text": [
      "E:/Test\n",
      "E:\\Test\\E367 Alk1 Control Lyve-AF647 + EMCN-AF488 + aSMA-Cy3 + DAPI x20_Cycle\n",
      "Processed Images\n",
      "Processed Images: E367 Alk1 Control Lyve-AF647 + EMCN-AF488 + aSMA-Cy3 + DAPI x20_Cycle\n",
      "E:\\Test\\E368 Alk1 Control Lyve-AF647 + EMCN-AF488 + aSMA-Cy3 + DAPI x20_Cycle\n",
      "Processed Images\n",
      "Processed Images: E368 Alk1 Control Lyve-AF647 + EMCN-AF488 + aSMA-Cy3 + DAPI x20_Cycle\n",
      "E:\\Test\\E369 Alk1 Control Lyve-AF647 + EMCN-AF488 + aSMA-Cy3 + DAPI x20_Cycle\n",
      "Processed Images\n",
      "Processed Images: E369 Alk1 Control Lyve-AF647 + EMCN-AF488 + aSMA-Cy3 + DAPI x20_Cycle\n",
      "E:\\Test\\E370 Alk1OE Lyve-AF647 + EMCN-AF488 + aSMA-Cy3 + DAPI x20_Cycle\n",
      "Processed Images\n",
      "Processed Images: E370 Alk1OE Lyve-AF647 + EMCN-AF488 + aSMA-Cy3 + DAPI x20_Cycle\n"
     ]
    }
   ],
   "source": [
    "root = Tk()\n",
    "root.lift()\n",
    "root.update()\n",
    "path = askdirectory(title='Select Input Folder') # shows dialog box and return the path\n",
    "root.destroy()\n",
    "print(path) \n",
    "#output = askdirectory(title='Select Output Folder')\n",
    "#print(output)\n",
    "\n",
    "\n",
    "os.chdir(path)\n",
    "for file in os.listdir(path):\n",
    "    d = path + \"\\\\\" + file\n",
    "    if os.path.isdir(d):\n",
    "        os.chdir(d)\n",
    "        for i in os.listdir(d):\n",
    "            full_path = d + \"/\" + i\n",
    "            if i.endswith(\"Processed Images\"):\n",
    "                print(os.getcwd())\n",
    "                print(i)\n",
    "                new_name = \"Processed Images\" + \": \" + file\n",
    "                \n",
    "                print(new_name)\n",
    "                #os.rename(\"Processed Images\", new_name)\n",
    "                #final_path = full_path + \": \" + file\n",
    "                #shutil.copy(final_path, output)\n",
    "\n",
    "\n"
   ]
  }
 ],
 "metadata": {
  "kernelspec": {
   "display_name": "base",
   "language": "python",
   "name": "python3"
  },
  "language_info": {
   "codemirror_mode": {
    "name": "ipython",
    "version": 3
   },
   "file_extension": ".py",
   "mimetype": "text/x-python",
   "name": "python",
   "nbconvert_exporter": "python",
   "pygments_lexer": "ipython3",
   "version": "3.9.7"
  },
  "orig_nbformat": 4,
  "vscode": {
   "interpreter": {
    "hash": "625f4a66d7159b85aff78afd3699ec8fbd03d0d2b7fcfa65e1f956a9b36382e8"
   }
  }
 },
 "nbformat": 4,
 "nbformat_minor": 2
}
